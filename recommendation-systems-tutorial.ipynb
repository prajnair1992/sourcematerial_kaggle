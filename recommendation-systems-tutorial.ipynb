{
 "cells": [
  {
   "cell_type": "markdown",
   "metadata": {
    "_uuid": "4825491d7073327da7c313459313031526326bce"
   },
   "source": [
    "# Introduction\n",
    "Recommender Systems:\n",
    "1. User Based Recommender Systems\n",
    "1. Item Based Recommender Systems\n",
    "\n",
    "<br>What is recommender System?\n",
    "   * Based on previous(past) behaviours, it predicts the likelihood that a user would prefer an item.\n",
    "   * For example, Netflix uses recommendation system. It suggest people new movies according to their past activities that are like watching and voting movies.\n",
    "   * The purpose of recommender systems is recommending new things that are not seen before from people.\n",
    "   \n",
    "<br>\n",
    "1. User Based Collaborative Filtering\n",
    "    * Collaborative filtering is making recommend according to combination of your experience and experiences of other people.\n",
    "    * First we need to make user vs item matrix.\n",
    "        * Each row is users and each columns are items like movie, product or websites\n",
    "    * Secondly, computes similarity scores between users.\n",
    "        * Each row is users and each row is vector.\n",
    "        * Compute similarity of these rows (users).\n",
    "    * Thirdly, find users who are similar to you based on past behaviours\n",
    "    * Finally, it suggests that you are not experienced before.\n",
    "    * Lets make an example of user based collaborative filtering\n",
    "        * Think that there are two people\n",
    "        * First one watched 2 movies that are lord of the rings and hobbit\n",
    "        * Second one watched only lord of the rings movie\n",
    "        * User based collaborative filtering computes similarity of these two people and sees both are watched a lord of the rings.\n",
    "        * Then it recommends hobbit movie to second one as it can be seen picture\n",
    "        *<a href=\"https://ibb.co/droZMy\"><img src=\"https://preview.ibb.co/feq3EJ/resim_a.jpg\" alt=\"resim_a\" border=\"0\"></a>\n",
    "        \n",
    "    * User based collaborative filtering has some problems\n",
    "        * In this system, each row of matrix is user. Therefore, comparing and finding similarity between of them is computationaly hard and spend too much computational power.\n",
    "        * Also, habits of people can be changed. Therefore making correct and useful recommendation can be hard in time.\n",
    "    * In order to solve these problems, lets look at another recommender system that is item based collaborative filtering\n",
    "1. Item Based Collaborative Filtering\n",
    "    * In this system, instead of finding relationship between users, used items like movies or stuffs are compared with each others.\n",
    "    * In user based recommendation systems, habits of users can be changed. This situation makes hard to recommendation. However, in item based recommendation systems, movies or stuffs does not change. Therefore recommendation is easier.\n",
    "    * On the other hand, there are almost 7 billion people all over the world. Comparing people increases the computational power. However, if items are compared, computational power is less.\n",
    "    * In item based recommendation systems, we need to make user vs item matrix that we use also in user based recommender systems.\n",
    "        * Each row is user and each column is items like movie, product or websites.\n",
    "        * However, at this time instead of calculating similarity between rows, we need to calculate similarity between columns that are items like movies or stuffs.\n",
    "    * Lets look at how it is works.\n",
    "        * Firstly, there are similarities between lord of the rings and hobbit movies because both are liked by three different people. There is a similarity point between these two movies.\n",
    "        * If the similarity is high enough, we can recommend hobbit to other people who only watched lord of the rings movie as it can be seen in figure below.\n",
    "        *<a href=\"https://imgbb.com/\"><img src=\"https://image.ibb.co/maEQdd/resim_b.jpg\" alt=\"resim_b\" border=\"0\"></a>\n",
    "\n",
    "\n"
   ]
  },
  {
   "cell_type": "code",
   "execution_count": null,
   "metadata": {
    "_cell_guid": "b1076dfc-b9ad-4769-8c92-a6c4dae69d19",
    "_uuid": "8f2839f25d086af736a60e9eeb907d3b93b6e0e5",
    "collapsed": true
   },
   "outputs": [],
   "source": [
    "# This Python 3 environment comes with many helpful analytics libraries installed\n",
    "# It is defined by the kaggle/python docker image: https://github.com/kaggle/docker-python\n",
    "# For example, here's several helpful packages to load in \n",
    "import pandas as pd # data processing, CSV file I/O (e.g. pd.read_csv)\n",
    "\n",
    "# Input data files are available in the \"../input/\" directory.\n",
    "# For example, running this (by clicking run or pressing Shift+Enter) will list the files in the input directory\n",
    "\n",
    "import os\n",
    "print(os.listdir(\"../input\"))\n",
    "\n",
    "# Any results you write to the current directory are saved as output."
   ]
  },
  {
   "cell_type": "code",
   "execution_count": null,
   "metadata": {
    "_cell_guid": "79c7e3d0-c299-4dcb-8224-4455121ee9b0",
    "_uuid": "d629ff2d2480ee46fbb7e2d37f6b5fab8052498a",
    "collapsed": true
   },
   "outputs": [],
   "source": [
    "# import movie data set and look at columns\n",
    "movie = pd.read_csv(\"../input/movie.csv\")\n",
    "movie.columns"
   ]
  },
  {
   "cell_type": "code",
   "execution_count": null,
   "metadata": {
    "_uuid": "e41488afd865ba450840645d2f9e553f40b4ea74",
    "collapsed": true
   },
   "outputs": [],
   "source": [
    "# what we need is that movie id and title\n",
    "movie = movie.loc[:,[\"movieId\",\"title\"]]\n",
    "movie.head(10)"
   ]
  },
  {
   "cell_type": "code",
   "execution_count": null,
   "metadata": {
    "_uuid": "9cc3337470127b7a9a5d9cfe2d3a7957613f077f",
    "collapsed": true
   },
   "outputs": [],
   "source": [
    "# import rating data and look at columsn\n",
    "rating = pd.read_csv(\"../input/rating.csv\")\n",
    "rating.columns"
   ]
  },
  {
   "cell_type": "code",
   "execution_count": null,
   "metadata": {
    "_uuid": "6d7deeee90104e83321636d8d24aa70e609529f7",
    "collapsed": true
   },
   "outputs": [],
   "source": [
    "# what we need is that user id, movie id and rating\n",
    "rating = rating.loc[:,[\"userId\",\"movieId\",\"rating\"]]\n",
    "rating.head(10)"
   ]
  },
  {
   "cell_type": "code",
   "execution_count": null,
   "metadata": {
    "_uuid": "04e5f971dab1ff82ae37ca6e7b0455db40d66201",
    "collapsed": true
   },
   "outputs": [],
   "source": [
    "# then merge movie and rating data\n",
    "data = pd.merge(movie,rating)"
   ]
  },
  {
   "cell_type": "code",
   "execution_count": null,
   "metadata": {
    "_uuid": "1bcc1b6358b0c8c32e3e01c6ff3468ed13905221",
    "collapsed": true
   },
   "outputs": [],
   "source": [
    "# now lets look at our data \n",
    "data.head(10)"
   ]
  },
  {
   "cell_type": "markdown",
   "metadata": {
    "_uuid": "99a4c90a7e8e4ca42067d909a4988cfa297dc591"
   },
   "source": [
    "* As it can be seen data frame that is above, we have 4 features that are movie id, title user id and rating\n",
    "* According to these data frame, we will make item based recommendation system\n",
    "* Lets look at shape of the data. The number of sample in data frame is 20 million that is too much. There can be problem in kaggle even if their own desktop ide's like spyder or pycharm.\n",
    "* Therefore, in order to learn item based recommendation system lets use 1 million of sample in data."
   ]
  },
  {
   "cell_type": "code",
   "execution_count": null,
   "metadata": {
    "_uuid": "e744d48908f02e0a79d7174791800bf216961e3e",
    "collapsed": true
   },
   "outputs": [],
   "source": [
    "data.shape"
   ]
  },
  {
   "cell_type": "code",
   "execution_count": null,
   "metadata": {
    "_uuid": "5e54fec26e73a6e209e73917b4d451f417bba1c2",
    "collapsed": true
   },
   "outputs": [],
   "source": [
    "data = data.iloc[:1000000,:]"
   ]
  },
  {
   "cell_type": "code",
   "execution_count": null,
   "metadata": {
    "_uuid": "a07ec3aabde5695a61ec95bc1856886945a4ad6f",
    "collapsed": true
   },
   "outputs": [],
   "source": [
    "# lets make a pivot table in order to make rows are users and columns are movies. And values are rating\n",
    "pivot_table = data.pivot_table(index = [\"userId\"],columns = [\"title\"],values = \"rating\")\n",
    "pivot_table.head(10)"
   ]
  },
  {
   "cell_type": "markdown",
   "metadata": {
    "_uuid": "74b7687f3c6db6abe5840dd6c7e553bf6bf97581"
   },
   "source": [
    "* As it can be seen from table above, rows are users, columns are movies and values are ratings\n",
    "* For example user 11 gives 3.5 rating to movie \"Ace Ventura: When Nature Calls (1995)\" and gives 3.0 rating to movie \"Bad Boys (1995)\".\n",
    "* Now lets make a scenario, we have movie web site and \"Bad Boys (1995)\" movie are watched and rated by people. The question is that which movie do we recommend these people who watched \"Bad Boys (1995)\" movie.\n",
    "* In order to answer this question we will find similarities between \"Bad Boys (1995)\" movie and other movies."
   ]
  },
  {
   "cell_type": "code",
   "execution_count": null,
   "metadata": {
    "_uuid": "59dceeeef86505cd5283969e925d6c2cc8960f02",
    "collapsed": true
   },
   "outputs": [],
   "source": [
    "movie_watched = pivot_table[\"Bad Boys (1995)\"]\n",
    "similarity_with_other_movies = pivot_table.corrwith(movie_watched)  # find correlation between \"Bad Boys (1995)\" and other movies\n",
    "similarity_with_other_movies = similarity_with_other_movies.sort_values(ascending=False)\n",
    "similarity_with_other_movies.head()"
   ]
  },
  {
   "cell_type": "markdown",
   "metadata": {
    "_uuid": "5b4c8cd5a7309e587771ecd9dc06b6dc32e50931"
   },
   "source": [
    "* It can be concluded that we need to recommend \"Headless Body in Topless Bar (1995)\" movie to people who watched \"Bad Boys (1995)\".\n",
    "* On the other hand even if we do not consider, number of rating for each movie is also important."
   ]
  },
  {
   "cell_type": "markdown",
   "metadata": {
    "_uuid": "6431fbb6525efe6e19aabf0ade74504c3054587a"
   },
   "source": [
    "# Conclusion\n",
    "What we learn is that\n",
    "* User based recommentation systems\n",
    "* Item based recommentation systems\n",
    "* How to find correlation or similarity between two vectors\n",
    "* Then we make very basic movie recommendation system.\n",
    "* **If you have any question I will be happy to hear it.**"
   ]
  },
  {
   "cell_type": "code",
   "execution_count": null,
   "metadata": {
    "_uuid": "b42b5590c8ae2320e629181f9f5fb113497926e3",
    "collapsed": true
   },
   "outputs": [],
   "source": []
  },
  {
   "cell_type": "code",
   "execution_count": null,
   "metadata": {
    "_uuid": "f14e4a0b01b58f6b59ba3be3d68d1e5a6df28b41",
    "collapsed": true
   },
   "outputs": [],
   "source": []
  }
 ],
 "metadata": {
  "kernelspec": {
   "display_name": "Python 3",
   "language": "python",
   "name": "python3"
  },
  "language_info": {
   "codemirror_mode": {
    "name": "ipython",
    "version": 3
   },
   "file_extension": ".py",
   "mimetype": "text/x-python",
   "name": "python",
   "nbconvert_exporter": "python",
   "pygments_lexer": "ipython3",
   "version": "3.7.3"
  }
 },
 "nbformat": 4,
 "nbformat_minor": 1
}
