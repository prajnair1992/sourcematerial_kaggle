{
 "cells": [
  {
   "cell_type": "markdown",
   "execution_count": null,
   "metadata": {},
   "source": [
    "<h1 align=\"center\"> HOUSE PRICES ADVANCED REGRESSION TECHNIQUES </h1>"
   ]
  },
  {
   "cell_type": "markdown",
   "execution_count": null,
   "metadata": {},
   "source": [
    "<h1 align=\"center\">![](https://storage.googleapis.com/kaggle-competitions/kaggle/5407/media/housesbanner.png) <h1/>"
   ]
  },
  {
   "cell_type": "code",
   "execution_count": 1,
   "metadata": {
    "_cell_guid": "b1076dfc-b9ad-4769-8c92-a6c4dae69d19",
    "_kg_hide-input": true,
    "_kg_hide-output": true,
    "_uuid": "8f2839f25d086af736a60e9eeb907d3b93b6e0e5"
   },
   "outputs": [
    {
     "name": "stdout",
     "output_type": "stream",
     "text": [
      "/kaggle/input/house-prices-advanced-regression-techniques/train.csv\n",
      "/kaggle/input/house-prices-advanced-regression-techniques/test.csv\n",
      "/kaggle/input/house-prices-advanced-regression-techniques/sample_submission.csv\n",
      "/kaggle/input/house-prices-advanced-regression-techniques/data_description.txt\n"
     ]
    }
   ],
   "source": [
    "# This Python 3 environment comes with many helpful analytics libraries installed\n",
    "# It is defined by the kaggle/python Docker image: https://github.com/kaggle/docker-python\n",
    "# For example, here's several helpful packages to load\n",
    "\n",
    "import numpy as np # linear algebra\n",
    "import pandas as pd # data processing, CSV file I/O (e.g. pd.read_csv)\n",
    "import seaborn as sns\n",
    "import matplotlib.pyplot as plt\n",
    "from scipy.stats import skew\n",
    "\n",
    "import warnings  \n",
    "warnings.filterwarnings('ignore')\n",
    "\n",
    "# Input data files are available in the read-only \"../input/\" directory\n",
    "# For example, running this (by clicking run or pressing Shift+Enter) will list all files under the input directory\n",
    "\n",
    "import os\n",
    "for dirname, _, filenames in os.walk('/kaggle/input'):\n",
    "    for filename in filenames:\n",
    "        print(os.path.join(dirname, filename))\n",
    "\n",
    "# You can write up to 5GB to the current directory (/kaggle/working/) that gets preserved as output when you create a version using \"Save & Run All\" \n",
    "# You can also write temporary files to /kaggle/temp/, but they won't be saved outside of the current session\n"
   ]
  },
  {
   "cell_type": "markdown",
   "execution_count": null,
   "metadata": {},
   "source": [
    "<h2>Before we Begin:  </h2>\n",
    "In models with a lot of variables, as in this dataset, you may not always have time to understand the meaning of all variables and what they are. For example, I usually try to make more than 300 variables meaningful. Sometimes this figure exceeds thousands. In such cases, someone has to tell us which variable is important and what are the meanings of them. A corelation matrix is usually can tell, but this alone is not enough. It is also necessary to use the techniques that regression models offer us.<br><br>"
   ]
  },
  {
   "cell_type": "markdown",
   "execution_count": null,
   "metadata": {},
   "source": [
    "<h2> Introduction </h2>\n",
    "In this notebook we will use various predictive models to see how accurate they  are.<br>\n",
    "Then combine them and try to improve model performance and analyzing best parameters<br>\n",
    "<font color='red'>\n",
    "### Our goal is create a Auto Machine Learning model for any dataset.<br>\n",
    "<font color='black'>\n",
    "Let's Begin\n",
    "\n",
    "<font color='red'>\n",
    "\n",
    "<h2> Road Map: </h2>\n",
    "1. [Parameters](#1)  \n",
    "1. [Understand the Target (SalePrice) distribution](#2)  \n",
    "1. [Drop high null ratio features](#3)\n",
    "1. [Fill null values with Mode/Median (for categorical features -Mode and for numbers-Median)](#4)\n",
    "1. [Auto Detect Outliers](#5)\n",
    "1. [Check Skewness and fit transormations if needed](#6)\n",
    "1. [Check Correlation between features and remove features with high correlations](#7)\n",
    "1. [Create regression models and compare the accuracy to our best regressor.](#8)\n",
    "1. [Find best model and make a submission](#9)\n",
    "1. [Improving models performance with StackingCVRegressor](#10)\n",
    "1. [Create stacked model and make a new submission](#11)\n",
    "1. [Use Shap and find features importances](#12)\n",
    "\n"
   ]
  },
  {
   "cell_type": "markdown",
   "execution_count": null,
   "metadata": {},
   "source": [
    "First Import Data"
   ]
  },
  {
   "cell_type": "code",
   "execution_count": 2,
   "metadata": {
    "_cell_guid": "79c7e3d0-c299-4dcb-8224-4455121ee9b0",
    "_uuid": "d629ff2d2480ee46fbb7e2d37f6b5fab8052498a"
   },
   "outputs": [],
   "source": [
    "train_l=pd.read_csv(\"/kaggle/input/house-prices-advanced-regression-techniques/train.csv\")\n",
    "test_l=pd.read_csv(\"/kaggle/input/house-prices-advanced-regression-techniques/test.csv\")\n",
    "desc=pd.read_fwf(\"/kaggle/input/house-prices-advanced-regression-techniques/data_description.txt\")\n",
    "dataset =  pd.concat(objs=[train_l, test_l], axis=0,sort=False).reset_index(drop=True)\n",
    "sample=pd.read_csv(\"/kaggle/input/house-prices-advanced-regression-techniques/sample_submission.csv\")"
   ]
  },
  {
   "cell_type": "markdown",
   "execution_count": null,
   "metadata": {},
   "source": [
    "<a id='1'></a><br>\n",
    "## 1. Parameters"
   ]
  },
  {
   "cell_type": "code",
   "execution_count": 3,
   "metadata": {},
   "outputs": [],
   "source": [
    "n_r=0.6                # Remove Null value ratio more than n_r. For example 0.6 means if column null ratio more than %60 then remove column\n",
    "s_r=0.75               # If skewness more than %75 transform column to get normal distribution\n",
    "c_r=1                  # Remove correlated columns\n",
    "n_f= dataset.shape[1]  # n_f number of features. dataset.shape[1] means all columns. If you change it to 10, it will select 10 most correlated feature\n",
    "r_s=2                  # random seed"
   ]
  },
  {
   "cell_type": "markdown",
   "execution_count": null,
   "metadata": {},
   "source": [
    "<a id='2'></a><br>\n",
    "## 2. Understand the Target (SalePrice) distribution"
   ]
  },
  {
   "cell_type": "code",
   "execution_count": 4,
   "metadata": {
    "_kg_hide-input": true
   },
   "outputs": [
    {
     "data": {
      "image/png": "[encoded data removed]",
      "text/plain": [
       "<Figure size 432x288 with 1 Axes>"
      ]
     },
     "metadata": {
      "needs_background": "light"
     },
     "output_type": "display_data"
    },
    {
     "name": "stdout",
     "output_type": "stream",
     "text": [
      "Skewness: 1.8828757597682129\n"
     ]
    }
   ],
   "source": [
    "sns.distplot(dataset['SalePrice'])\n",
    "plt.show()\n",
    "print('Skewness: '+ str(dataset['SalePrice'].skew()))"
   ]
  },
  {
   "cell_type": "markdown",
   "execution_count": null,
   "metadata": {},
   "source": [
    "We have skewed target so we need to transofmation. I ll use log but you try other transformation"
   ]
  },
  {
   "cell_type": "code",
   "execution_count": 5,
   "metadata": {},
   "outputs": [],
   "source": [
    "#log transform the target:\n",
    "dataset[\"SalePrice\"] = np.log1p(dataset[\"SalePrice\"])"
   ]
  },
  {
   "cell_type": "code",
   "execution_count": 6,
   "metadata": {
    "_kg_hide-input": true
   },
   "outputs": [
    {
     "data": {
      "image/png": "[encoded data removed]",
      "text/plain": [
       "<Figure size 432x288 with 1 Axes>"
      ]
     },
     "metadata": {
      "needs_background": "light"
     },
     "output_type": "display_data"
    },
    {
     "name": "stdout",
     "output_type": "stream",
     "text": [
      "Skewness: 0.12134661989685332\n"
     ]
    }
   ],
   "source": [
    "sns.distplot(dataset['SalePrice'])\n",
    "plt.show()\n",
    "print('Skewness: '+ str(dataset['SalePrice'].skew()))"
   ]
  },
  {
   "cell_type": "markdown",
   "execution_count": null,
   "metadata": {},
   "source": [
    "Now our Target normalized. \n",
    "<font color='red'>\n",
    "Note: When making submission , this transofmation need to be undone."
   ]
  },
  {
   "cell_type": "markdown",
   "execution_count": null,
   "metadata": {},
   "source": [
    "<a id='3'></a><br>\n",
    "## 3. Drop high null ratio features"
   ]
  },
  {
   "cell_type": "markdown",
   "execution_count": null,
   "metadata": {},
   "source": [
    "You can change null ratio (n_r) on parameters section"
   ]
  },
  {
   "cell_type": "code",
   "execution_count": 7,
   "metadata": {
    "_kg_hide-input": true
   },
   "outputs": [
    {
     "name": "stdout",
     "output_type": "stream",
     "text": [
      "This Columns will be remove because of null ratio higher than %60.0: \n",
      "Alley          0.932169\n",
      "PoolQC         0.996574\n",
      "Fence          0.804385\n",
      "MiscFeature    0.964029\n",
      "dtype: float64\n"
     ]
    }
   ],
   "source": [
    "\n",
    "dataset_isna=dataset.isna()\n",
    "dataset_isna_sum=dataset_isna.sum()\n",
    "dataset_isna_ratio=dataset_isna_sum/len(dataset)\n",
    "if \"SalePrice\" in dataset_isna_ratio:\n",
    "    dataset_isna_ratio.drop(\"SalePrice\",inplace=True)\n",
    "remove_columns=dataset_isna_ratio[dataset_isna_ratio>n_r]\n",
    "columns=pd.DataFrame(remove_columns)\n",
    "print(\"This Columns will be remove because of null ratio higher than %\"+str(n_r*100)+\": \")\n",
    "print(remove_columns)\n",
    "dataset=dataset.drop(columns.index,axis=1)"
   ]
  },
  {
   "cell_type": "markdown",
   "execution_count": null,
   "metadata": {},
   "source": [
    "<a id='4'></a><br>\n",
    "## 4. Fill null values with Mode/Median (for categorical features -Mode and for numbers-Median)"
   ]
  },
  {
   "cell_type": "markdown",
   "execution_count": null,
   "metadata": {},
   "source": [
    "I use mode for cats and for median for numeric features but you can change it whatever you want."
   ]
  },
  {
   "cell_type": "code",
   "execution_count": 8,
   "metadata": {},
   "outputs": [],
   "source": [
    "cat=dataset.select_dtypes(\"object\")\n",
    "for column in cat:\n",
    "    dataset[column].fillna(dataset[column].mode()[0], inplace=True)\n",
    "    #dataset[column].fillna(\"NA\", inplace=True)\n",
    "\n",
    "\n",
    "fl=dataset.select_dtypes([\"float64\",\"int64\"]).drop(\"SalePrice\",axis=1)\n",
    "for column in fl:\n",
    "    dataset[column].fillna(dataset[column].median(), inplace=True)\n",
    "    #dataset[column].fillna(0, inplace=True)\n",
    "\n"
   ]
  },
  {
   "cell_type": "markdown",
   "execution_count": null,
   "metadata": {},
   "source": [
    "<a id='5'></a><br>\n",
    "## 5. Auto Detect Outliers"
   ]
  },
  {
   "cell_type": "code",
   "execution_count": 9,
   "metadata": {
    "_kg_hide-input": true
   },
   "outputs": [
    {
     "data": {
      "image/png": "[encoded data removed]",
      "text/plain": [
       "<Figure size 648x432 with 1 Axes>"
      ]
     },
     "metadata": {
      "needs_background": "light"
     },
     "output_type": "display_data"
    }
   ],
   "source": [
    "train_o=dataset[dataset[\"SalePrice\"].notnull()]\n",
    "outliers = [30, 88, 462, 523, 632, 1298, 1324]\n",
    "from sklearn.neighbors import LocalOutlierFactor\n",
    "def detect_outliers(x, y, top=5, plot=True):\n",
    "    lof = LocalOutlierFactor(n_neighbors=40, contamination=0.1)\n",
    "    x_ =np.array(x).reshape(-1,1)\n",
    "    preds = lof.fit_predict(x_)\n",
    "    lof_scr = lof.negative_outlier_factor_\n",
    "    out_idx = pd.Series(lof_scr).sort_values()[:top].index\n",
    "    if plot:\n",
    "        f, ax = plt.subplots(figsize=(9, 6))\n",
    "        plt.scatter(x=x, y=y, c=np.exp(lof_scr), cmap='RdBu')\n",
    "    return out_idx\n",
    "\n",
    "outs = detect_outliers(train_o['GrLivArea'], train_o['SalePrice'],top=5) #got 1298,523\n",
    "outs\n",
    "plt.show()"
   ]
  },
  {
   "cell_type": "markdown",
   "execution_count": null,
   "metadata": {},
   "source": [
    "Detect and Remove outliers"
   ]
  },
  {
   "cell_type": "code",
   "execution_count": 10,
   "metadata": {},
   "outputs": [
    {
     "name": "stdout",
     "output_type": "stream",
     "text": [
      "[(0, 4), (533, 4), (1298, 4), (1270, 3), (375, 3), (523, 3), (635, 3), (634, 3), (976, 3), (975, 3), (978, 3), (977, 3), (313, 2), (335, 2), (916, 2), (1213, 2), (812, 2), (229, 2), (77, 2), (7, 2), (599, 2), (953, 2), (496, 2), (1182, 2), (954, 2), (597, 2), (1163, 2), (1350, 2), (1328, 2), (495, 2), (1459, 1), (1, 1), (1458, 1), (1457, 1), (164, 1), (873, 1), (589, 1), (555, 1), (46, 1), (707, 1), (1306, 1), (124, 1), (1369, 1), (249, 1), (706, 1), (451, 1), (636, 1), (1100, 1), (304, 1), (508, 1), (218, 1), (1442, 1), (1058, 1), (240, 1), (1166, 1), (591, 1), (277, 1), (771, 1), (1140, 1), (1223, 1), (1023, 1), (385, 1), (1004, 1), (982, 1), (699, 1), (219, 1), (790, 1), (930, 1), (1028, 1), (695, 1), (645, 1), (1149, 1), (125, 1), (574, 1), (332, 1), (440, 1), (1024, 1), (1373, 1), (431, 1), (1400, 1), (185, 1), (170, 1), (1009, 1), (88, 1), (691, 1), (738, 1), (188, 1), (326, 1), (624, 1), (298, 1), (1283, 1), (53, 1), (189, 1), (809, 1), (48, 1), (203, 1), (434, 1), (1218, 1), (642, 1), (166, 1), (309, 1), (605, 1), (201, 1), (537, 1), (950, 1), (1025, 1), (1190, 1), (747, 1), (420, 1), (1340, 1), (542, 1), (1372, 1), (516, 1), (351, 1), (1060, 1), (499, 1), (63, 1), (1397, 1), (131, 1), (874, 1), (155, 1), (9, 1), (297, 1), (1059, 1), (341, 1), (1349, 1), (198, 1), (935, 1), (205, 1), (55, 1), (5, 1), (1437, 1), (1346, 1), (1012, 1), (1443, 1), (588, 1), (995, 1), (1423, 1), (810, 1), (1170, 1), (1386, 1), (867, 1), (51, 1), (968, 1), (30, 1)]\n",
      "30\n",
      "88\n",
      "523\n",
      "1298\n"
     ]
    }
   ],
   "source": [
    "from collections import Counter\n",
    "all_outliers=[]\n",
    "numeric_features = train_o.dtypes[train_o.dtypes != 'object'].index\n",
    "for feature in numeric_features:\n",
    "    try:\n",
    "        outs = detect_outliers(train_o[feature], train_o['SalePrice'],top=5, plot=False)\n",
    "    except:\n",
    "        continue\n",
    "    all_outliers.extend(outs)\n",
    "\n",
    "print(Counter(all_outliers).most_common())\n",
    "for i in outliers:\n",
    "    if i in all_outliers:\n",
    "        print(i)\n",
    "train_o = train_o.drop(train_o.index[outliers])\n",
    "test_o=dataset[dataset[\"SalePrice\"].isna()]\n",
    "dataset =  pd.concat(objs=[train_o, test_o], axis=0,sort=False).reset_index(drop=True)"
   ]
  },
  {
   "cell_type": "markdown",
   "execution_count": null,
   "metadata": {},
   "source": [
    "<a id='5'></a><br>\n",
    "## 5. Check Skewness and fit transormations if needed"
   ]
  },
  {
   "cell_type": "code",
   "execution_count": 11,
   "metadata": {},
   "outputs": [],
   "source": [
    "\n",
    "\n",
    "\n",
    "#log transform skewed numeric features:\n",
    "numeric_feats = dataset.dtypes[dataset.dtypes != \"object\"].index\n",
    "\n",
    "skewed_feats = dataset[numeric_feats].apply(lambda x: skew(x.dropna())) #compute skewness\n",
    "skewed_feats = skewed_feats[skewed_feats > s_r]\n",
    "skewed_feats = skewed_feats.index\n",
    "\n",
    "dataset[skewed_feats] = np.log1p(dataset[skewed_feats])\n"
   ]
  },
  {
   "cell_type": "markdown",
   "execution_count": null,
   "metadata": {},
   "source": [
    "### Now we don't have any missing value"
   ]
  },
  {
   "cell_type": "code",
   "execution_count": 12,
   "metadata": {},
   "outputs": [
    {
     "data": {
      "text/plain": [
       "Index(['SalePrice'], dtype='object')"
      ]
     },
     "execution_count": 12,
     "metadata": {},
     "output_type": "execute_result"
    }
   ],
   "source": [
    "dataset.columns[dataset.isnull().any()]"
   ]
  },
  {
   "cell_type": "code",
   "execution_count": 13,
   "metadata": {
    "_kg_hide-input": true
   },
   "outputs": [
    {
     "data": {
      "text/plain": [
       "'\\n# feture engineering a new feature \"TotalFS\"\\ndataset[\\'TotalSF\\'] = (dataset[\\'TotalBsmtSF\\'] \\n                       + dataset[\\'1stFlrSF\\'] \\n                       + dataset[\\'2ndFlrSF\\'])\\n\\ndataset[\\'TotArea\\']=dataset[\\'GarageArea\\']+dataset[\\'GrLivArea\\']\\n\\ndataset[\\'YrBltAndRemod\\'] = dataset[\\'YearBuilt\\'] + dataset[\\'YearRemodAdd\\']\\ndataset[\\'YrBltAndRemod2\\'] = dataset[\\'YearBuilt\\'] - dataset[\\'YearRemodAdd\\']\\n\\ndataset[\\'Total_sqr_footage\\'] = (dataset[\\'BsmtFinSF1\\'] \\n                                 + dataset[\\'BsmtFinSF2\\'] \\n                                 + dataset[\\'1stFlrSF\\'] \\n                                 + dataset[\\'2ndFlrSF\\']\\n                                )\\n                                 \\n\\ndataset[\\'Total_Bathrooms\\'] = (dataset[\\'FullBath\\'] \\n                               + (0.5 * dataset[\\'HalfBath\\']) \\n                               + dataset[\\'BsmtFullBath\\'] \\n                               + (0.5 * dataset[\\'BsmtHalfBath\\'])\\n                              )\\n                               \\n\\ndataset[\\'Total_porch_sf\\'] = (dataset[\\'OpenPorchSF\\'] \\n                              + dataset[\\'3SsnPorch\\'] \\n                              + dataset[\\'EnclosedPorch\\'] \\n                              + dataset[\\'ScreenPorch\\'] \\n                              + dataset[\\'WoodDeckSF\\']\\n                             )\\n\\ndataset[\\'haspool\\'] = dataset[\\'PoolArea\\'].apply(lambda x: 1 if x > 0 else 0)\\ndataset[\\'has2ndfloor\\'] = dataset[\\'2ndFlrSF\\'].apply(lambda x: 1 if x > 0 else 0)\\ndataset[\\'hasgarage\\'] = dataset[\\'GarageArea\\'].apply(lambda x: 1 if x > 0 else 0)\\ndataset[\\'hasbsmt\\'] = dataset[\\'TotalBsmtSF\\'].apply(lambda x: 1 if x > 0 else 0)\\ndataset[\\'hasfireplace\\'] = dataset[\\'Fireplaces\\'].apply(lambda x: 1 if x > 0 else 0)\\n\\ndataset[\\'MSSubClass\\'] = dataset[\\'MSSubClass\\'].apply(str)\\ndataset[\\'YrSold\\'] = dataset[\\'YrSold\\'].astype(str)\\ndataset[\\'MoSold\\'] = dataset[\\'MoSold\\'].astype(str)\\n'"
      ]
     },
     "execution_count": 13,
     "metadata": {},
     "output_type": "execute_result"
    }
   ],
   "source": [
    "\"\"\"\n",
    "# feture engineering a new feature \"TotalFS\"\n",
    "dataset['TotalSF'] = (dataset['TotalBsmtSF'] \n",
    "                       + dataset['1stFlrSF'] \n",
    "                       + dataset['2ndFlrSF'])\n",
    "\n",
    "dataset['TotArea']=dataset['GarageArea']+dataset['GrLivArea']\n",
    "\n",
    "dataset['YrBltAndRemod'] = dataset['YearBuilt'] + dataset['YearRemodAdd']\n",
    "dataset['YrBltAndRemod2'] = dataset['YearBuilt'] - dataset['YearRemodAdd']\n",
    "\n",
    "dataset['Total_sqr_footage'] = (dataset['BsmtFinSF1'] \n",
    "                                 + dataset['BsmtFinSF2'] \n",
    "                                 + dataset['1stFlrSF'] \n",
    "                                 + dataset['2ndFlrSF']\n",
    "                                )\n",
    "                                 \n",
    "\n",
    "dataset['Total_Bathrooms'] = (dataset['FullBath'] \n",
    "                               + (0.5 * dataset['HalfBath']) \n",
    "                               + dataset['BsmtFullBath'] \n",
    "                               + (0.5 * dataset['BsmtHalfBath'])\n",
    "                              )\n",
    "                               \n",
    "\n",
    "dataset['Total_porch_sf'] = (dataset['OpenPorchSF'] \n",
    "                              + dataset['3SsnPorch'] \n",
    "                              + dataset['EnclosedPorch'] \n",
    "                              + dataset['ScreenPorch'] \n",
    "                              + dataset['WoodDeckSF']\n",
    "                             )\n",
    "\n",
    "dataset['haspool'] = dataset['PoolArea'].apply(lambda x: 1 if x > 0 else 0)\n",
    "dataset['has2ndfloor'] = dataset['2ndFlrSF'].apply(lambda x: 1 if x > 0 else 0)\n",
    "dataset['hasgarage'] = dataset['GarageArea'].apply(lambda x: 1 if x > 0 else 0)\n",
    "dataset['hasbsmt'] = dataset['TotalBsmtSF'].apply(lambda x: 1 if x > 0 else 0)\n",
    "dataset['hasfireplace'] = dataset['Fireplaces'].apply(lambda x: 1 if x > 0 else 0)\n",
    "\n",
    "dataset['MSSubClass'] = dataset['MSSubClass'].apply(str)\n",
    "dataset['YrSold'] = dataset['YrSold'].astype(str)\n",
    "dataset['MoSold'] = dataset['MoSold'].astype(str)\n",
    "\"\"\""
   ]
  },
  {
   "cell_type": "markdown",
   "execution_count": null,
   "metadata": {},
   "source": [
    "* Converting categorical features to numerical (some models doesn't need this conversion)"
   ]
  },
  {
   "cell_type": "code",
   "execution_count": 14,
   "metadata": {},
   "outputs": [],
   "source": [
    "dataset=pd.get_dummies(dataset, columns=dataset.select_dtypes(\"object\").columns)"
   ]
  },
  {
   "cell_type": "markdown",
   "execution_count": null,
   "metadata": {},
   "source": [
    "<a id='6'></a><br>\n",
    "## 6. Check Correlation between features and remove features with high correlations"
   ]
  },
  {
   "cell_type": "code",
   "execution_count": 15,
   "metadata": {},
   "outputs": [],
   "source": [
    "\n",
    "# Create correlation matrix\n",
    "df=dataset.drop(\"SalePrice\",axis=1)\n",
    "corr_matrix = df.corr().abs()\n",
    "\n",
    "# Select upper triangle of correlation matrix\n",
    "upper = corr_matrix.where(np.triu(np.ones(corr_matrix.shape), k=1).astype(np.bool))\n",
    "\n",
    "# Find index of feature columns with correlation greater than 0.95. You can change 0.95 on parameter section\n",
    "to_drop = [column for column in upper.columns if any(upper[column] > c_r)]\n",
    "dataset=dataset.drop(to_drop,axis=1)\n"
   ]
  },
  {
   "cell_type": "markdown",
   "execution_count": null,
   "metadata": {},
   "source": [
    "<a id='7'></a><br>\n",
    "## 7. Create regression models and compare the accuracy to our best regressor"
   ]
  },
  {
   "cell_type": "code",
   "execution_count": 16,
   "metadata": {},
   "outputs": [],
   "source": [
    "train=dataset[dataset[\"SalePrice\"].notnull()]\n",
    "test=dataset[dataset[\"SalePrice\"].isna()]"
   ]
  },
  {
   "cell_type": "code",
   "execution_count": 17,
   "metadata": {},
   "outputs": [],
   "source": [
    "k = n_f # if you change it 10 model uses most 10 correlated features\n",
    "corrmat=abs(dataset.corr())\n",
    "cols = corrmat.nlargest(k, 'SalePrice')['SalePrice'].index\n",
    "train_x=train[cols].drop(\"SalePrice\",axis=1)\n",
    "train_y=train[\"SalePrice\"]\n",
    "X_test=test[cols].drop(\"SalePrice\",axis=1)"
   ]
  },
  {
   "cell_type": "markdown",
   "execution_count": null,
   "metadata": {},
   "source": [
    "* Train Test Split - Classic"
   ]
  },
  {
   "cell_type": "code",
   "execution_count": 18,
   "metadata": {},
   "outputs": [],
   "source": [
    "from sklearn.model_selection import train_test_split\n",
    "X_train, X_val, y_train, y_val = train_test_split(train_x, train_y, test_size=0.20, random_state=r_s)"
   ]
  },
  {
   "cell_type": "markdown",
   "execution_count": null,
   "metadata": {},
   "source": [
    "<a id='8'></a><br>\n",
    "## 8. Find best model and make a submission"
   ]
  },
  {
   "cell_type": "code",
   "execution_count": 19,
   "metadata": {},
   "outputs": [
    {
     "data": {
      "text/html": [
       "<div>\n",
       "<style scoped>\n",
       "    .dataframe tbody tr th:only-of-type {\n",
       "        vertical-align: middle;\n",
       "    }\n",
       "\n",
       "    .dataframe tbody tr th {\n",
       "        vertical-align: top;\n",
       "    }\n",
       "\n",
       "    .dataframe thead th {\n",
       "        text-align: right;\n",
       "    }\n",
       "</style>\n",
       "<table border=\"1\" class=\"dataframe\">\n",
       "  <thead>\n",
       "    <tr style=\"text-align: right;\">\n",
       "      <th></th>\n",
       "      <th>Algorithms</th>\n",
       "      <th>Training Score</th>\n",
       "      <th>Validation Score</th>\n",
       "      <th>MAE</th>\n",
       "      <th>MSE</th>\n",
       "      <th>RMSE</th>\n",
       "    </tr>\n",
       "  </thead>\n",
       "  <tbody>\n",
       "    <tr>\n",
       "      <th>0</th>\n",
       "      <td>&lt;catboost.core.CatBoostRegressor object at 0x7...</td>\n",
       "      <td>0.982914</td>\n",
       "      <td>0.873474</td>\n",
       "      <td>0.104437</td>\n",
       "      <td>0.021910</td>\n",
       "      <td>0.148019</td>\n",
       "    </tr>\n",
       "    <tr>\n",
       "      <th>1</th>\n",
       "      <td>([DecisionTreeRegressor(ccp_alpha=0.0, criteri...</td>\n",
       "      <td>0.990943</td>\n",
       "      <td>0.903159</td>\n",
       "      <td>0.087581</td>\n",
       "      <td>0.016769</td>\n",
       "      <td>0.129496</td>\n",
       "    </tr>\n",
       "    <tr>\n",
       "      <th>2</th>\n",
       "      <td>LGBMRegressor(boosting_type='gbdt', class_weig...</td>\n",
       "      <td>0.955345</td>\n",
       "      <td>0.889662</td>\n",
       "      <td>0.093976</td>\n",
       "      <td>0.019106</td>\n",
       "      <td>0.138226</td>\n",
       "    </tr>\n",
       "    <tr>\n",
       "      <th>3</th>\n",
       "      <td>(DecisionTreeRegressor(ccp_alpha=0.0, criterio...</td>\n",
       "      <td>0.632177</td>\n",
       "      <td>0.623164</td>\n",
       "      <td>0.193199</td>\n",
       "      <td>0.065254</td>\n",
       "      <td>0.255449</td>\n",
       "    </tr>\n",
       "    <tr>\n",
       "      <th>4</th>\n",
       "      <td>(DecisionTreeRegressor(ccp_alpha=0.0, criterio...</td>\n",
       "      <td>0.999991</td>\n",
       "      <td>0.719177</td>\n",
       "      <td>0.148403</td>\n",
       "      <td>0.044870</td>\n",
       "      <td>0.211825</td>\n",
       "    </tr>\n",
       "    <tr>\n",
       "      <th>5</th>\n",
       "      <td>(ExtraTreeRegressor(ccp_alpha=0.0, criterion='...</td>\n",
       "      <td>0.675812</td>\n",
       "      <td>0.666026</td>\n",
       "      <td>0.180938</td>\n",
       "      <td>0.057832</td>\n",
       "      <td>0.240483</td>\n",
       "    </tr>\n",
       "    <tr>\n",
       "      <th>6</th>\n",
       "      <td>SVR(C=1.0, cache_size=200, coef0=0.0, degree=3...</td>\n",
       "      <td>0.989345</td>\n",
       "      <td>0.896763</td>\n",
       "      <td>0.092979</td>\n",
       "      <td>0.017877</td>\n",
       "      <td>0.133704</td>\n",
       "    </tr>\n",
       "    <tr>\n",
       "      <th>7</th>\n",
       "      <td>Ridge(alpha=1.0, copy_X=True, fit_intercept=Tr...</td>\n",
       "      <td>0.920684</td>\n",
       "      <td>0.904811</td>\n",
       "      <td>0.089161</td>\n",
       "      <td>0.016483</td>\n",
       "      <td>0.128387</td>\n",
       "    </tr>\n",
       "    <tr>\n",
       "      <th>8</th>\n",
       "      <td>BayesianRidge(alpha_1=1e-06, alpha_2=1e-06, al...</td>\n",
       "      <td>0.920893</td>\n",
       "      <td>0.900337</td>\n",
       "      <td>0.089896</td>\n",
       "      <td>0.017258</td>\n",
       "      <td>0.131370</td>\n",
       "    </tr>\n",
       "    <tr>\n",
       "      <th>9</th>\n",
       "      <td>DecisionTreeRegressor(ccp_alpha=0.0, criterion...</td>\n",
       "      <td>0.878625</td>\n",
       "      <td>0.840254</td>\n",
       "      <td>0.122767</td>\n",
       "      <td>0.027662</td>\n",
       "      <td>0.166319</td>\n",
       "    </tr>\n",
       "    <tr>\n",
       "      <th>10</th>\n",
       "      <td>ElasticNet(alpha=1.0, copy_X=True, fit_interce...</td>\n",
       "      <td>0.918932</td>\n",
       "      <td>0.906047</td>\n",
       "      <td>0.089706</td>\n",
       "      <td>0.016269</td>\n",
       "      <td>0.127551</td>\n",
       "    </tr>\n",
       "    <tr>\n",
       "      <th>11</th>\n",
       "      <td>LinearRegression(copy_X=True, fit_intercept=Tr...</td>\n",
       "      <td>0.767251</td>\n",
       "      <td>0.655012</td>\n",
       "      <td>0.179420</td>\n",
       "      <td>0.059739</td>\n",
       "      <td>0.244416</td>\n",
       "    </tr>\n",
       "    <tr>\n",
       "      <th>12</th>\n",
       "      <td>KNeighborsRegressor(algorithm='auto', leaf_siz...</td>\n",
       "      <td>0.999991</td>\n",
       "      <td>0.882219</td>\n",
       "      <td>0.101347</td>\n",
       "      <td>0.021197</td>\n",
       "      <td>0.145593</td>\n",
       "    </tr>\n",
       "  </tbody>\n",
       "</table>\n",
       "</div>"
      ],
      "text/plain": [
       "                                           Algorithms  Training Score  \\\n",
       "0   <catboost.core.CatBoostRegressor object at 0x7...        0.982914   \n",
       "1   ([DecisionTreeRegressor(ccp_alpha=0.0, criteri...        0.990943   \n",
       "2   LGBMRegressor(boosting_type='gbdt', class_weig...        0.955345   \n",
       "3   (DecisionTreeRegressor(ccp_alpha=0.0, criterio...        0.632177   \n",
       "4   (DecisionTreeRegressor(ccp_alpha=0.0, criterio...        0.999991   \n",
       "5   (ExtraTreeRegressor(ccp_alpha=0.0, criterion='...        0.675812   \n",
       "6   SVR(C=1.0, cache_size=200, coef0=0.0, degree=3...        0.989345   \n",
       "7   Ridge(alpha=1.0, copy_X=True, fit_intercept=Tr...        0.920684   \n",
       "8   BayesianRidge(alpha_1=1e-06, alpha_2=1e-06, al...        0.920893   \n",
       "9   DecisionTreeRegressor(ccp_alpha=0.0, criterion...        0.878625   \n",
       "10  ElasticNet(alpha=1.0, copy_X=True, fit_interce...        0.918932   \n",
       "11  LinearRegression(copy_X=True, fit_intercept=Tr...        0.767251   \n",
       "12  KNeighborsRegressor(algorithm='auto', leaf_siz...        0.999991   \n",
       "\n",
       "    Validation Score       MAE       MSE      RMSE  \n",
       "0           0.873474  0.104437  0.021910  0.148019  \n",
       "1           0.903159  0.087581  0.016769  0.129496  \n",
       "2           0.889662  0.093976  0.019106  0.138226  \n",
       "3           0.623164  0.193199  0.065254  0.255449  \n",
       "4           0.719177  0.148403  0.044870  0.211825  \n",
       "5           0.666026  0.180938  0.057832  0.240483  \n",
       "6           0.896763  0.092979  0.017877  0.133704  \n",
       "7           0.904811  0.089161  0.016483  0.128387  \n",
       "8           0.900337  0.089896  0.017258  0.131370  \n",
       "9           0.840254  0.122767  0.027662  0.166319  \n",
       "10          0.906047  0.089706  0.016269  0.127551  \n",
       "11          0.655012  0.179420  0.059739  0.244416  \n",
       "12          0.882219  0.101347  0.021197  0.145593  "
      ]
     },
     "execution_count": 19,
     "metadata": {},
     "output_type": "execute_result"
    }
   ],
   "source": [
    "np.random.seed(seed=r_s)\n",
    "\n",
    "from sklearn.metrics import mean_squared_error,mean_absolute_error\n",
    "from sklearn.ensemble import GradientBoostingRegressor,RandomForestRegressor,AdaBoostRegressor,ExtraTreesRegressor\n",
    "from lightgbm import LGBMRegressor\n",
    "from catboost import CatBoostRegressor\n",
    "from xgboost import XGBRegressor\n",
    "from sklearn.linear_model import Ridge,BayesianRidge,LinearRegression,Lasso,ElasticNet\n",
    "from sklearn.neighbors import KNeighborsRegressor\n",
    "from sklearn.tree import DecisionTreeRegressor\n",
    "from sklearn.ensemble import VotingRegressor\n",
    "from sklearn.svm import SVR\n",
    "\n",
    "\n",
    "my_regressors=[ \n",
    "               CatBoostRegressor(logging_level='Silent',random_state=r_s),\n",
    "               GradientBoostingRegressor(random_state =r_s),\n",
    "               LGBMRegressor(random_state=r_s),\n",
    "               RandomForestRegressor(random_state=r_s),\n",
    "               AdaBoostRegressor(random_state=r_s),\n",
    "               ExtraTreesRegressor(),\n",
    "               SVR(),\n",
    "               Ridge(),\n",
    "               BayesianRidge(),\n",
    "               DecisionTreeRegressor(),\n",
    "               ElasticNet(),\n",
    "               LinearRegression(),\n",
    "               KNeighborsRegressor()\n",
    "              ]\n",
    "\n",
    "regressors=[]\n",
    "\n",
    "for my_regressor in my_regressors:\n",
    "    regressors.append(my_regressor)\n",
    "\n",
    "\n",
    "scores_val=[]\n",
    "scores_train=[]\n",
    "MAE=[]\n",
    "MSE=[]\n",
    "RMSE=[]\n",
    "\n",
    "for regressor in regressors:\n",
    "    scores_val.append(regressor.fit(X_train,y_train).score(X_val,y_val))\n",
    "    scores_train.append(regressor.fit(X_train,y_train).score(X_train,y_train))\n",
    "    y_pred=regressor.predict(X_val)\n",
    "    MAE.append(mean_absolute_error(y_val,y_pred))\n",
    "    MSE.append(mean_squared_error(y_val,y_pred))\n",
    "    RMSE.append(np.sqrt(mean_squared_error(y_val,y_pred)))\n",
    "    \n",
    "results=zip(scores_val,scores_train,MAE,MSE,RMSE)\n",
    "results=set(results)\n",
    "results_score_val=[item[0] for item in results]\n",
    "results_score_train=[item[1] for item in results]\n",
    "results_MAE=[item[2] for item in results]\n",
    "results_MSE=[item[3] for item in results]\n",
    "results_RMSE=[item[4] for item in results]\n",
    "\n",
    "\n",
    "df_results=pd.DataFrame({\"Algorithms\":my_regressors,\"Training Score\":results_score_train,\"Validation Score\":results_score_val,\"MAE\":results_MAE,\"MSE\":results_MSE,\"RMSE\":results_RMSE})\n",
    "df_results"
   ]
  },
  {
   "cell_type": "markdown",
   "execution_count": null,
   "metadata": {},
   "source": [
    "Sort models results according to RMSE and select best model for submission."
   ]
  },
  {
   "cell_type": "code",
   "execution_count": 20,
   "metadata": {
    "_kg_hide-input": true
   },
   "outputs": [
    {
     "data": {
      "text/html": [
       "<div>\n",
       "<style scoped>\n",
       "    .dataframe tbody tr th:only-of-type {\n",
       "        vertical-align: middle;\n",
       "    }\n",
       "\n",
       "    .dataframe tbody tr th {\n",
       "        vertical-align: top;\n",
       "    }\n",
       "\n",
       "    .dataframe thead th {\n",
       "        text-align: right;\n",
       "    }\n",
       "</style>\n",
       "<table border=\"1\" class=\"dataframe\">\n",
       "  <thead>\n",
       "    <tr style=\"text-align: right;\">\n",
       "      <th></th>\n",
       "      <th>Algorithms</th>\n",
       "      <th>Training Score</th>\n",
       "      <th>Validation Score</th>\n",
       "      <th>MAE</th>\n",
       "      <th>MSE</th>\n",
       "      <th>RMSE</th>\n",
       "    </tr>\n",
       "  </thead>\n",
       "  <tbody>\n",
       "    <tr>\n",
       "      <th>10</th>\n",
       "      <td>ElasticNet(alpha=1.0, copy_X=True, fit_interce...</td>\n",
       "      <td>0.918932</td>\n",
       "      <td>0.906047</td>\n",
       "      <td>0.089706</td>\n",
       "      <td>0.016269</td>\n",
       "      <td>0.127551</td>\n",
       "    </tr>\n",
       "    <tr>\n",
       "      <th>7</th>\n",
       "      <td>Ridge(alpha=1.0, copy_X=True, fit_intercept=Tr...</td>\n",
       "      <td>0.920684</td>\n",
       "      <td>0.904811</td>\n",
       "      <td>0.089161</td>\n",
       "      <td>0.016483</td>\n",
       "      <td>0.128387</td>\n",
       "    </tr>\n",
       "    <tr>\n",
       "      <th>1</th>\n",
       "      <td>([DecisionTreeRegressor(ccp_alpha=0.0, criteri...</td>\n",
       "      <td>0.990943</td>\n",
       "      <td>0.903159</td>\n",
       "      <td>0.087581</td>\n",
       "      <td>0.016769</td>\n",
       "      <td>0.129496</td>\n",
       "    </tr>\n",
       "    <tr>\n",
       "      <th>8</th>\n",
       "      <td>BayesianRidge(alpha_1=1e-06, alpha_2=1e-06, al...</td>\n",
       "      <td>0.920893</td>\n",
       "      <td>0.900337</td>\n",
       "      <td>0.089896</td>\n",
       "      <td>0.017258</td>\n",
       "      <td>0.131370</td>\n",
       "    </tr>\n",
       "    <tr>\n",
       "      <th>6</th>\n",
       "      <td>SVR(C=1.0, cache_size=200, coef0=0.0, degree=3...</td>\n",
       "      <td>0.989345</td>\n",
       "      <td>0.896763</td>\n",
       "      <td>0.092979</td>\n",
       "      <td>0.017877</td>\n",
       "      <td>0.133704</td>\n",
       "    </tr>\n",
       "    <tr>\n",
       "      <th>2</th>\n",
       "      <td>LGBMRegressor(boosting_type='gbdt', class_weig...</td>\n",
       "      <td>0.955345</td>\n",
       "      <td>0.889662</td>\n",
       "      <td>0.093976</td>\n",
       "      <td>0.019106</td>\n",
       "      <td>0.138226</td>\n",
       "    </tr>\n",
       "    <tr>\n",
       "      <th>12</th>\n",
       "      <td>KNeighborsRegressor(algorithm='auto', leaf_siz...</td>\n",
       "      <td>0.999991</td>\n",
       "      <td>0.882219</td>\n",
       "      <td>0.101347</td>\n",
       "      <td>0.021197</td>\n",
       "      <td>0.145593</td>\n",
       "    </tr>\n",
       "    <tr>\n",
       "      <th>0</th>\n",
       "      <td>&lt;catboost.core.CatBoostRegressor object at 0x7...</td>\n",
       "      <td>0.982914</td>\n",
       "      <td>0.873474</td>\n",
       "      <td>0.104437</td>\n",
       "      <td>0.021910</td>\n",
       "      <td>0.148019</td>\n",
       "    </tr>\n",
       "    <tr>\n",
       "      <th>9</th>\n",
       "      <td>DecisionTreeRegressor(ccp_alpha=0.0, criterion...</td>\n",
       "      <td>0.878625</td>\n",
       "      <td>0.840254</td>\n",
       "      <td>0.122767</td>\n",
       "      <td>0.027662</td>\n",
       "      <td>0.166319</td>\n",
       "    </tr>\n",
       "    <tr>\n",
       "      <th>4</th>\n",
       "      <td>(DecisionTreeRegressor(ccp_alpha=0.0, criterio...</td>\n",
       "      <td>0.999991</td>\n",
       "      <td>0.719177</td>\n",
       "      <td>0.148403</td>\n",
       "      <td>0.044870</td>\n",
       "      <td>0.211825</td>\n",
       "    </tr>\n",
       "    <tr>\n",
       "      <th>5</th>\n",
       "      <td>(ExtraTreeRegressor(ccp_alpha=0.0, criterion='...</td>\n",
       "      <td>0.675812</td>\n",
       "      <td>0.666026</td>\n",
       "      <td>0.180938</td>\n",
       "      <td>0.057832</td>\n",
       "      <td>0.240483</td>\n",
       "    </tr>\n",
       "    <tr>\n",
       "      <th>11</th>\n",
       "      <td>LinearRegression(copy_X=True, fit_intercept=Tr...</td>\n",
       "      <td>0.767251</td>\n",
       "      <td>0.655012</td>\n",
       "      <td>0.179420</td>\n",
       "      <td>0.059739</td>\n",
       "      <td>0.244416</td>\n",
       "    </tr>\n",
       "    <tr>\n",
       "      <th>3</th>\n",
       "      <td>(DecisionTreeRegressor(ccp_alpha=0.0, criterio...</td>\n",
       "      <td>0.632177</td>\n",
       "      <td>0.623164</td>\n",
       "      <td>0.193199</td>\n",
       "      <td>0.065254</td>\n",
       "      <td>0.255449</td>\n",
       "    </tr>\n",
       "  </tbody>\n",
       "</table>\n",
       "</div>"
      ],
      "text/plain": [
       "                                           Algorithms  Training Score  \\\n",
       "10  ElasticNet(alpha=1.0, copy_X=True, fit_interce...        0.918932   \n",
       "7   Ridge(alpha=1.0, copy_X=True, fit_intercept=Tr...        0.920684   \n",
       "1   ([DecisionTreeRegressor(ccp_alpha=0.0, criteri...        0.990943   \n",
       "8   BayesianRidge(alpha_1=1e-06, alpha_2=1e-06, al...        0.920893   \n",
       "6   SVR(C=1.0, cache_size=200, coef0=0.0, degree=3...        0.989345   \n",
       "2   LGBMRegressor(boosting_type='gbdt', class_weig...        0.955345   \n",
       "12  KNeighborsRegressor(algorithm='auto', leaf_siz...        0.999991   \n",
       "0   <catboost.core.CatBoostRegressor object at 0x7...        0.982914   \n",
       "9   DecisionTreeRegressor(ccp_alpha=0.0, criterion...        0.878625   \n",
       "4   (DecisionTreeRegressor(ccp_alpha=0.0, criterio...        0.999991   \n",
       "5   (ExtraTreeRegressor(ccp_alpha=0.0, criterion='...        0.675812   \n",
       "11  LinearRegression(copy_X=True, fit_intercept=Tr...        0.767251   \n",
       "3   (DecisionTreeRegressor(ccp_alpha=0.0, criterio...        0.632177   \n",
       "\n",
       "    Validation Score       MAE       MSE      RMSE  \n",
       "10          0.906047  0.089706  0.016269  0.127551  \n",
       "7           0.904811  0.089161  0.016483  0.128387  \n",
       "1           0.903159  0.087581  0.016769  0.129496  \n",
       "8           0.900337  0.089896  0.017258  0.131370  \n",
       "6           0.896763  0.092979  0.017877  0.133704  \n",
       "2           0.889662  0.093976  0.019106  0.138226  \n",
       "12          0.882219  0.101347  0.021197  0.145593  \n",
       "0           0.873474  0.104437  0.021910  0.148019  \n",
       "9           0.840254  0.122767  0.027662  0.166319  \n",
       "4           0.719177  0.148403  0.044870  0.211825  \n",
       "5           0.666026  0.180938  0.057832  0.240483  \n",
       "11          0.655012  0.179420  0.059739  0.244416  \n",
       "3           0.623164  0.193199  0.065254  0.255449  "
      ]
     },
     "execution_count": 20,
     "metadata": {},
     "output_type": "execute_result"
    }
   ],
   "source": [
    "best_models=df_results.sort_values(by=\"RMSE\")\n",
    "best_model=best_models.iloc[0][0]\n",
    "best_models\n"
   ]
  },
  {
   "cell_type": "code",
   "execution_count": 21,
   "metadata": {},
   "outputs": [
    {
     "name": "stdout",
     "output_type": "stream",
     "text": [
      "0.666025551756408\n",
      "RMSE: 0.24048311016394538\n"
     ]
    }
   ],
   "source": [
    "best_model.fit(X_train,y_train)\n",
    "y_test=best_model.predict(X_test)\n",
    "test_Id=test['Id']\n",
    "my_submission = pd.DataFrame({'Id': test_Id, 'SalePrice': np.expm1(y_test)})\n",
    "my_submission.to_csv('submission_bm.csv', index=False)\n",
    "print(best_model.score(X_val,y_val))\n",
    "y_pred=best_model.predict(X_val)\n",
    "print(\"RMSE: \"+str(np.sqrt(mean_squared_error(y_val,y_pred))))"
   ]
  },
  {
   "cell_type": "markdown",
   "execution_count": null,
   "metadata": {},
   "source": [
    "How is look like our predictions. Are they close to real target values? <br>\n",
    "Let's look at the graph"
   ]
  },
  {
   "cell_type": "code",
   "execution_count": 22,
   "metadata": {
    "_kg_hide-input": true
   },
   "outputs": [
    {
     "data": {
      "image/png": "[encoded data removed]",
      "text/plain": [
       "<Figure size 720x504 with 1 Axes>"
      ]
     },
     "metadata": {
      "needs_background": "light"
     },
     "output_type": "display_data"
    }
   ],
   "source": [
    "plt.figure(figsize=(10,7))\n",
    "y_pred=best_model.predict(X_val)\n",
    "sns.regplot(x=y_val,y=y_pred,truncate=False)\n",
    "plt.show()"
   ]
  },
  {
   "cell_type": "markdown",
   "execution_count": null,
   "metadata": {},
   "source": [
    "<a id='9'></a><br>\n",
    "## 9. Improving models performance with StackingCVRegressor"
   ]
  },
  {
   "cell_type": "markdown",
   "execution_count": null,
   "metadata": {},
   "source": [
    "<h1 align=\"center\">![](http://rasbt.github.io/mlxtend/user_guide/regressor/StackingCVRegressor_files/stacking_cv_regressor_overview.png) <h1/>"
   ]
  },
  {
   "cell_type": "markdown",
   "execution_count": null,
   "metadata": {},
   "source": [
    "This code block finds best combinations for you. It's taking time but worth it."
   ]
  },
  {
   "cell_type": "code",
   "execution_count": 23,
   "metadata": {},
   "outputs": [],
   "source": [
    "i_num=[]\n",
    "j_num=[]\n",
    "score=[]\n",
    "RMSE=[]\n",
    "for i in range(1,5):\n",
    "    stack_models=i\n",
    "    for j in range(1,5):\n",
    "        base_model=j\n",
    "        best_n_models=best_models.head(stack_models).index\n",
    "        regressors_top_n=list( regressors[i] for i in best_n_models)\n",
    "\n",
    "        from mlxtend.regressor import StackingCVRegressor\n",
    "        stack = StackingCVRegressor(regressors=regressors_top_n,meta_regressor= regressors[base_model], use_features_in_secondary=True)\n",
    "        comb=stack.fit(X_train,y_train)\n",
    "        y_pred=comb.predict(X_val)\n",
    "        score.append(comb.score(X_val,y_val))\n",
    "        RMSE.append(np.sqrt(mean_squared_error(y_val,y_pred)))\n",
    "        i_num.append(i)\n",
    "        j_num.append(j)\n",
    "        \n",
    "opt_resr=zip(score,RMSE,i_num,j_num)\n",
    "opt_resr=set(opt_resr)\n",
    "opt_resr_score=[item[0] for item in opt_resr]\n",
    "opt_resr_RMSE=[item[1] for item in opt_resr]\n",
    "opt_resr_i_num=[item[2] for item in opt_resr]\n",
    "opt_resr_j_num=[item[3] for item in opt_resr]\n",
    "\n",
    "\n",
    "\n",
    "df_opt_resr=pd.DataFrame({\"Score\":opt_resr_score,\"RMSE\":opt_resr_RMSE,\"i_num\":opt_resr_i_num,\"j_num\":opt_resr_j_num})\n",
    "df_opt_resr=df_opt_resr.sort_values(by=\"RMSE\")\n",
    "opt_best_model_i_num=df_opt_resr.iloc[0][2].astype(int)\n",
    "opt_best_model_j_num=df_opt_resr.iloc[0][3].astype(int)\n"
   ]
  },
  {
   "cell_type": "markdown",
   "execution_count": null,
   "metadata": {},
   "source": [
    "<a id='10'></a><br>\n",
    "## 10. Create stacked model and make a new submission"
   ]
  },
  {
   "cell_type": "code",
   "execution_count": 24,
   "metadata": {},
   "outputs": [
    {
     "name": "stdout",
     "output_type": "stream",
     "text": [
      "0.9074231724533639\n",
      "RMSE: 0.12661323537958155\n"
     ]
    }
   ],
   "source": [
    "best_n_models=best_models.head(opt_best_model_i_num).index\n",
    "regressors_top_n=list( regressors[i] for i in best_n_models)\n",
    "from mlxtend.regressor import StackingCVRegressor\n",
    "stack = StackingCVRegressor(regressors=regressors_top_n,meta_regressor= regressors[opt_best_model_j_num], use_features_in_secondary=True)\n",
    "comb=stack.fit(X_train,y_train)\n",
    "print(comb.score(X_val,y_val))\n",
    "y_pred=comb.predict(X_val)\n",
    "print(\"RMSE: \"+str(np.sqrt(mean_squared_error(y_val,y_pred))))"
   ]
  },
  {
   "cell_type": "markdown",
   "execution_count": null,
   "metadata": {},
   "source": [
    "You can see your models improvement"
   ]
  },
  {
   "cell_type": "code",
   "execution_count": 25,
   "metadata": {
    "_kg_hide-input": true
   },
   "outputs": [
    {
     "data": {
      "image/png": "[encoded data removed]",
      "text/plain": [
       "<Figure size 720x504 with 1 Axes>"
      ]
     },
     "metadata": {
      "needs_background": "light"
     },
     "output_type": "display_data"
    }
   ],
   "source": [
    "plt.figure(figsize=(10,7))\n",
    "y_pred=comb.predict(X_val)\n",
    "sns.regplot(x=y_val,y=y_pred,truncate=False)\n",
    "plt.show()"
   ]
  },
  {
   "cell_type": "code",
   "execution_count": 26,
   "metadata": {},
   "outputs": [],
   "source": [
    "y_test=comb.predict(X_test)\n",
    "test_Id=test['Id']\n",
    "my_submission = pd.DataFrame({'Id': test_Id, 'SalePrice': np.expm1(y_test)})\n",
    "#my_submission = pd.DataFrame({'Id': test_Id, 'SalePrice': np.expm1(y_test)})\n",
    "my_submission.to_csv('submission_stack', index=False)"
   ]
  },
  {
   "cell_type": "markdown",
   "execution_count": null,
   "metadata": {},
   "source": [
    "<a id='11'></a><br>\n",
    "## 11. Use Shap and find features importances"
   ]
  },
  {
   "cell_type": "markdown",
   "execution_count": null,
   "metadata": {},
   "source": [
    "Note: SHAP doesnt support all models that we have. So if model which we used is unsupported then we will get error. In my case no problem."
   ]
  },
  {
   "cell_type": "code",
   "execution_count": 27,
   "metadata": {
    "_kg_hide-input": true
   },
   "outputs": [
    {
     "name": "stderr",
     "output_type": "stream",
     "text": [
      "Using TensorFlow backend.\n"
     ]
    },
    {
     "ename": "SHAPError",
     "evalue": "Model type not yet supported by TreeExplainer: <class 'sklearn.linear_model._coordinate_descent.ElasticNet'>",
     "output_type": "error",
     "traceback": [
      "\u001b[0;31m---------------------------------------------------------------------------\u001b[0m",
      "\u001b[0;31mSHAPError\u001b[0m                                 Traceback (most recent call last)",
      "\u001b[0;32m<ipython-input-27-a7105c17e847>\u001b[0m in \u001b[0;36m<module>\u001b[0;34m\u001b[0m\n\u001b[1;32m      2\u001b[0m \u001b[0;34m\u001b[0m\u001b[0m\n\u001b[1;32m      3\u001b[0m \u001b[0;31m# Create object that can calculate shap values\u001b[0m\u001b[0;34m\u001b[0m\u001b[0;34m\u001b[0m\u001b[0;34m\u001b[0m\u001b[0m\n\u001b[0;32m----> 4\u001b[0;31m \u001b[0mexplainer\u001b[0m \u001b[0;34m=\u001b[0m \u001b[0mshap\u001b[0m\u001b[0;34m.\u001b[0m\u001b[0mTreeExplainer\u001b[0m\u001b[0;34m(\u001b[0m\u001b[0mbest_model\u001b[0m\u001b[0;34m)\u001b[0m\u001b[0;34m\u001b[0m\u001b[0;34m\u001b[0m\u001b[0m\n\u001b[0m\u001b[1;32m      5\u001b[0m \u001b[0;34m\u001b[0m\u001b[0m\n\u001b[1;32m      6\u001b[0m \u001b[0;31m# calculate shap values. This is what we will plot.\u001b[0m\u001b[0;34m\u001b[0m\u001b[0;34m\u001b[0m\u001b[0;34m\u001b[0m\u001b[0m\n",
      "\u001b[0;32m/opt/conda/lib/python3.7/site-packages/shap/explainers/tree.py\u001b[0m in \u001b[0;36m__init__\u001b[0;34m(self, model, data, model_output, feature_perturbation, **deprecated_options)\u001b[0m\n\u001b[1;32m    119\u001b[0m         \u001b[0mself\u001b[0m\u001b[0;34m.\u001b[0m\u001b[0mfeature_perturbation\u001b[0m \u001b[0;34m=\u001b[0m \u001b[0mfeature_perturbation\u001b[0m\u001b[0;34m\u001b[0m\u001b[0;34m\u001b[0m\u001b[0m\n\u001b[1;32m    120\u001b[0m         \u001b[0mself\u001b[0m\u001b[0;34m.\u001b[0m\u001b[0mexpected_value\u001b[0m \u001b[0;34m=\u001b[0m \u001b[0;32mNone\u001b[0m\u001b[0;34m\u001b[0m\u001b[0;34m\u001b[0m\u001b[0m\n\u001b[0;32m--> 121\u001b[0;31m         \u001b[0mself\u001b[0m\u001b[0;34m.\u001b[0m\u001b[0mmodel\u001b[0m \u001b[0;34m=\u001b[0m \u001b[0mTreeEnsemble\u001b[0m\u001b[0;34m(\u001b[0m\u001b[0mmodel\u001b[0m\u001b[0;34m,\u001b[0m \u001b[0mself\u001b[0m\u001b[0;34m.\u001b[0m\u001b[0mdata\u001b[0m\u001b[0;34m,\u001b[0m \u001b[0mself\u001b[0m\u001b[0;34m.\u001b[0m\u001b[0mdata_missing\u001b[0m\u001b[0;34m,\u001b[0m \u001b[0mmodel_output\u001b[0m\u001b[0;34m)\u001b[0m\u001b[0;34m\u001b[0m\u001b[0;34m\u001b[0m\u001b[0m\n\u001b[0m\u001b[1;32m    122\u001b[0m         \u001b[0mself\u001b[0m\u001b[0;34m.\u001b[0m\u001b[0mmodel_output\u001b[0m \u001b[0;34m=\u001b[0m \u001b[0mmodel_output\u001b[0m\u001b[0;34m\u001b[0m\u001b[0;34m\u001b[0m\u001b[0m\n\u001b[1;32m    123\u001b[0m         \u001b[0;31m#self.model_output = self.model.model_output # this allows the TreeEnsemble to translate model outputs types by how it loads the model\u001b[0m\u001b[0;34m\u001b[0m\u001b[0;34m\u001b[0m\u001b[0;34m\u001b[0m\u001b[0m\n",
      "\u001b[0;32m/opt/conda/lib/python3.7/site-packages/shap/explainers/tree.py\u001b[0m in \u001b[0;36m__init__\u001b[0;34m(self, model, data, data_missing, model_output)\u001b[0m\n\u001b[1;32m    876\u001b[0m             \u001b[0mself\u001b[0m\u001b[0;34m.\u001b[0m\u001b[0mbase_offset\u001b[0m \u001b[0;34m=\u001b[0m \u001b[0mmodel\u001b[0m\u001b[0;34m.\u001b[0m\u001b[0minit_params\u001b[0m\u001b[0;34m[\u001b[0m\u001b[0mparam_idx\u001b[0m\u001b[0;34m]\u001b[0m\u001b[0;34m\u001b[0m\u001b[0;34m\u001b[0m\u001b[0m\n\u001b[1;32m    877\u001b[0m         \u001b[0;32melse\u001b[0m\u001b[0;34m:\u001b[0m\u001b[0;34m\u001b[0m\u001b[0;34m\u001b[0m\u001b[0m\n\u001b[0;32m--> 878\u001b[0;31m             \u001b[0;32mraise\u001b[0m \u001b[0mSHAPError\u001b[0m\u001b[0;34m(\u001b[0m\u001b[0;34m\"Model type not yet supported by TreeExplainer: \"\u001b[0m \u001b[0;34m+\u001b[0m \u001b[0mstr\u001b[0m\u001b[0;34m(\u001b[0m\u001b[0mtype\u001b[0m\u001b[0;34m(\u001b[0m\u001b[0mmodel\u001b[0m\u001b[0;34m)\u001b[0m\u001b[0;34m)\u001b[0m\u001b[0;34m)\u001b[0m\u001b[0;34m\u001b[0m\u001b[0;34m\u001b[0m\u001b[0m\n\u001b[0m\u001b[1;32m    879\u001b[0m \u001b[0;34m\u001b[0m\u001b[0m\n\u001b[1;32m    880\u001b[0m         \u001b[0;31m# make sure the base offset is a 1D array\u001b[0m\u001b[0;34m\u001b[0m\u001b[0;34m\u001b[0m\u001b[0;34m\u001b[0m\u001b[0m\n",
      "\u001b[0;31mSHAPError\u001b[0m: Model type not yet supported by TreeExplainer: <class 'sklearn.linear_model._coordinate_descent.ElasticNet'>"
     ]
    }
   ],
   "source": [
    "import shap  # package used to calculate Shap values\n",
    "\n",
    "# Create object that can calculate shap values\n",
    "explainer = shap.TreeExplainer(best_model)\n",
    "\n",
    "# calculate shap values. This is what we will plot.\n",
    "# Calculate shap_values for all of val_X rather than a single row, to have more data for plot.\n",
    "shap_values = explainer.shap_values(X_val)\n",
    "\n",
    "# Make plot. Index of [1] is explained in text below.\n",
    "shap.summary_plot(shap_values, X_val)\n"
   ]
  },
  {
   "cell_type": "code",
   "execution_count": 28,
   "metadata": {},
   "outputs": [
    {
     "ename": "NameError",
     "evalue": "name 'explainer' is not defined",
     "output_type": "error",
     "traceback": [
      "\u001b[0;31m---------------------------------------------------------------------------\u001b[0m",
      "\u001b[0;31mNameError\u001b[0m                                 Traceback (most recent call last)",
      "\u001b[0;32m<ipython-input-28-ff91765a8276>\u001b[0m in \u001b[0;36m<module>\u001b[0;34m\u001b[0m\n\u001b[0;32m----> 1\u001b[0;31m \u001b[0mshap\u001b[0m\u001b[0;34m.\u001b[0m\u001b[0mforce_plot\u001b[0m\u001b[0;34m(\u001b[0m\u001b[0mexplainer\u001b[0m\u001b[0;34m.\u001b[0m\u001b[0mexpected_value\u001b[0m\u001b[0;34m,\u001b[0m \u001b[0mshap_values\u001b[0m\u001b[0;34m[\u001b[0m\u001b[0;36m0\u001b[0m\u001b[0;34m,\u001b[0m\u001b[0;34m:\u001b[0m\u001b[0;34m]\u001b[0m\u001b[0;34m,\u001b[0m \u001b[0mX_val\u001b[0m\u001b[0;34m.\u001b[0m\u001b[0miloc\u001b[0m\u001b[0;34m[\u001b[0m\u001b[0;36m0\u001b[0m\u001b[0;34m,\u001b[0m\u001b[0;34m:\u001b[0m\u001b[0;34m]\u001b[0m\u001b[0;34m,\u001b[0m\u001b[0mmatplotlib\u001b[0m\u001b[0;34m=\u001b[0m\u001b[0;32mTrue\u001b[0m\u001b[0;34m)\u001b[0m\u001b[0;34m\u001b[0m\u001b[0;34m\u001b[0m\u001b[0m\n\u001b[0m",
      "\u001b[0;31mNameError\u001b[0m: name 'explainer' is not defined"
     ]
    }
   ],
   "source": [
    "shap.force_plot(explainer.expected_value, shap_values[0,:], X_val.iloc[0,:],matplotlib=True)"
   ]
  },
  {
   "cell_type": "code",
   "execution_count": 29,
   "metadata": {},
   "outputs": [
    {
     "ename": "NameError",
     "evalue": "name 'shap_values' is not defined",
     "output_type": "error",
     "traceback": [
      "\u001b[0;31m---------------------------------------------------------------------------\u001b[0m",
      "\u001b[0;31mNameError\u001b[0m                                 Traceback (most recent call last)",
      "\u001b[0;32m<ipython-input-29-fd70f8b321d6>\u001b[0m in \u001b[0;36m<module>\u001b[0;34m\u001b[0m\n\u001b[0;32m----> 1\u001b[0;31m \u001b[0mshap\u001b[0m\u001b[0;34m.\u001b[0m\u001b[0mdependence_plot\u001b[0m\u001b[0;34m(\u001b[0m\u001b[0;34m'SaleType_New'\u001b[0m\u001b[0;34m,\u001b[0m \u001b[0mshap_values\u001b[0m\u001b[0;34m,\u001b[0m \u001b[0mX_val\u001b[0m\u001b[0;34m,\u001b[0m \u001b[0minteraction_index\u001b[0m\u001b[0;34m=\u001b[0m\u001b[0;34m\"SaleCondition_Partial\"\u001b[0m\u001b[0;34m)\u001b[0m\u001b[0;34m\u001b[0m\u001b[0;34m\u001b[0m\u001b[0m\n\u001b[0m",
      "\u001b[0;31mNameError\u001b[0m: name 'shap_values' is not defined"
     ]
    }
   ],
   "source": [
    "shap.dependence_plot('SaleType_New', shap_values, X_val, interaction_index=\"SaleCondition_Partial\")"
   ]
  },
  {
   "cell_type": "code",
   "execution_count": 30,
   "metadata": {
    "_kg_hide-input": true
   },
   "outputs": [
    {
     "data": {
      "text/plain": [
       "'\\nfeature_corr = X_train.corr().abs()\\ntarget_corr=dataset.corr()[\"SalePrice\"].abs()\\ntarget_corr=pd.DataFrame(target_corr)\\ntarget_corr=target_corr.reset_index()\\nfeature_corr_unstack= feature_corr.unstack()\\ndf_fc=pd.DataFrame(feature_corr_unstack,columns=[\"corr\"])\\ndf_fc=df_fc[(df_fc[\"corr\"]>=.95)&(df_fc[\"corr\"]<1)].sort_values(by=\"corr\",ascending=False)\\ndf_dc=df_fc.reset_index()\\n\\n#df_dc=pd.melt(df_dc, id_vars=[\\'corr\\'], var_name=\\'Name\\')\\ndf_dc.merge(target_corr, left_on=\\'level_1\\', right_on=\\'index\\',\\n          suffixes=(\\'_left\\', \\'_right\\'))\\n'"
      ]
     },
     "execution_count": 30,
     "metadata": {},
     "output_type": "execute_result"
    }
   ],
   "source": [
    "\"\"\"\n",
    "feature_corr = X_train.corr().abs()\n",
    "target_corr=dataset.corr()[\"SalePrice\"].abs()\n",
    "target_corr=pd.DataFrame(target_corr)\n",
    "target_corr=target_corr.reset_index()\n",
    "feature_corr_unstack= feature_corr.unstack()\n",
    "df_fc=pd.DataFrame(feature_corr_unstack,columns=[\"corr\"])\n",
    "df_fc=df_fc[(df_fc[\"corr\"]>=.95)&(df_fc[\"corr\"]<1)].sort_values(by=\"corr\",ascending=False)\n",
    "df_dc=df_fc.reset_index()\n",
    "\n",
    "#df_dc=pd.melt(df_dc, id_vars=['corr'], var_name='Name')\n",
    "df_dc.merge(target_corr, left_on='level_1', right_on='index',\n",
    "          suffixes=('_left', '_right'))\n",
    "\"\"\""
   ]
  },
  {
   "cell_type": "code",
   "execution_count": 31,
   "metadata": {
    "_kg_hide-input": true
   },
   "outputs": [
    {
     "data": {
      "text/plain": [
       "\"\\nnp.random.seed(2)\\nfrom sklearn.model_selection import RandomizedSearchCV,GridSearchCV\\n\\n#num_estimators = [100,500,1000]\\nlearn_rates = [0.01,0.05,0.1]\\niterations=[10,20,50,100]\\n\\nparam_grid = {\\n              #'n_estimators': num_estimators,\\n              'learning_rate': learn_rates,\\n              'iterations': iterations\\n             }\\n\\n#random_search = RandomizedSearchCV(GradientBoostingRegressor(n_estimators=500,learning_rate=0.05,loss='huber'), param_grid, random_state=2, n_iter=100, cv=5, n_jobs=-1)\\nrandom_search = GridSearchCV(CatBoostRegressor(random_state=2,logging_level='Silent'), param_grid,cv=5,n_jobs=-1)\\n\\n\\nrandom_search.fit(X_train,y_train)\\nprint(random_search.best_params_)\\n\\ngboost_score=random_search.score(X_val,y_val)\\nprint(gboost_score)\\n\""
      ]
     },
     "execution_count": 31,
     "metadata": {},
     "output_type": "execute_result"
    }
   ],
   "source": [
    "\"\"\"\n",
    "np.random.seed(2)\n",
    "from sklearn.model_selection import RandomizedSearchCV,GridSearchCV\n",
    "\n",
    "#num_estimators = [100,500,1000]\n",
    "learn_rates = [0.01,0.05,0.1]\n",
    "iterations=[10,20,50,100]\n",
    "\n",
    "param_grid = {\n",
    "              #'n_estimators': num_estimators,\n",
    "              'learning_rate': learn_rates,\n",
    "              'iterations': iterations\n",
    "             }\n",
    "\n",
    "#random_search = RandomizedSearchCV(GradientBoostingRegressor(n_estimators=500,learning_rate=0.05,loss='huber'), param_grid, random_state=2, n_iter=100, cv=5, n_jobs=-1)\n",
    "random_search = GridSearchCV(CatBoostRegressor(random_state=2,logging_level='Silent'), param_grid,cv=5,n_jobs=-1)\n",
    "\n",
    "\n",
    "random_search.fit(X_train,y_train)\n",
    "print(random_search.best_params_)\n",
    "\n",
    "gboost_score=random_search.score(X_val,y_val)\n",
    "print(gboost_score)\n",
    "\"\"\""
   ]
  },
  {
   "cell_type": "code",
   "execution_count": 32,
   "metadata": {
    "_kg_hide-input": true
   },
   "outputs": [
    {
     "data": {
      "text/plain": [
       "'\\n!pip install pytorch-tabnet\\nfrom pytorch_tabnet.tab_model import TabNetRegressor\\ny_train_tab=y_train.values.reshape(-1,1)\\ny_val_tab=y_val.values.reshape(-1,1)\\nclf = TabNetRegressor()\\nclf.fit(X_train, y_train_tab, X_val, y_val_tab)\\npreds = clf.predict(X_test)\\nclf.fit(X_train, y_train, X_val, y_val)\\npreds = clf.predict(X_test)\\n'"
      ]
     },
     "execution_count": 32,
     "metadata": {},
     "output_type": "execute_result"
    }
   ],
   "source": [
    "\"\"\"\n",
    "!pip install pytorch-tabnet\n",
    "from pytorch_tabnet.tab_model import TabNetRegressor\n",
    "y_train_tab=y_train.values.reshape(-1,1)\n",
    "y_val_tab=y_val.values.reshape(-1,1)\n",
    "clf = TabNetRegressor()\n",
    "clf.fit(X_train, y_train_tab, X_val, y_val_tab)\n",
    "preds = clf.predict(X_test)\n",
    "clf.fit(X_train, y_train, X_val, y_val)\n",
    "preds = clf.predict(X_test)\n",
    "\"\"\""
   ]
  },
  {
   "cell_type": "code",
   "execution_count": 33,
   "metadata": {},
   "outputs": [
    {
     "name": "stdout",
     "output_type": "stream",
     "text": [
      "ARDRegression\n",
      "AdaBoostRegressor\n",
      "BaggingRegressor\n",
      "BayesianRidge\n",
      "CCA\n",
      "DecisionTreeRegressor\n",
      "DummyRegressor\n",
      "ElasticNet\n",
      "ElasticNetCV\n",
      "ExtraTreeRegressor\n",
      "ExtraTreesRegressor\n",
      "GaussianProcessRegressor\n",
      "GradientBoostingRegressor\n",
      "HistGradientBoostingRegressor\n",
      "HuberRegressor\n",
      "IsotonicRegression\n",
      "KNeighborsRegressor\n",
      "KernelRidge\n",
      "Lars\n",
      "LarsCV\n",
      "Lasso\n",
      "LassoCV\n",
      "LassoLars\n",
      "LassoLarsCV\n",
      "LassoLarsIC\n",
      "LinearRegression\n",
      "LinearSVR\n",
      "MLPRegressor\n",
      "MultiOutputRegressor\n",
      "MultiTaskElasticNet\n",
      "MultiTaskElasticNetCV\n",
      "MultiTaskLasso\n",
      "MultiTaskLassoCV\n",
      "NuSVR\n",
      "OrthogonalMatchingPursuit\n",
      "OrthogonalMatchingPursuitCV\n",
      "PLSCanonical\n",
      "PLSRegression\n",
      "PassiveAggressiveRegressor\n",
      "RANSACRegressor\n",
      "RadiusNeighborsRegressor\n",
      "RandomForestRegressor\n",
      "RegressorChain\n",
      "Ridge\n",
      "RidgeCV\n",
      "SGDRegressor\n",
      "SVR\n",
      "StackingRegressor\n",
      "TheilSenRegressor\n",
      "TransformedTargetRegressor\n",
      "VotingRegressor\n",
      "_SigmoidCalibration\n"
     ]
    }
   ],
   "source": [
    "from sklearn.utils.testing import all_estimators\n",
    "from sklearn import base\n",
    "\n",
    "estimators = all_estimators()\n",
    "\n",
    "for name, class_ in estimators:\n",
    "    if issubclass(class_, base.RegressorMixin):\n",
    "        print(name)"
   ]
  }
 ],
 "metadata": {
  "kernelspec": {
   "display_name": "Python 3",
   "language": "python",
   "name": "python3"
  },
  "language_info": {
   "codemirror_mode": {
    "name": "ipython",
    "version": 3
   },
   "file_extension": ".py",
   "mimetype": "text/x-python",
   "name": "python",
   "nbconvert_exporter": "python",
   "pygments_lexer": "ipython3",
   "version": "3.7.6"
  }
 },
 "nbformat": 4,
 "nbformat_minor": 4
}
